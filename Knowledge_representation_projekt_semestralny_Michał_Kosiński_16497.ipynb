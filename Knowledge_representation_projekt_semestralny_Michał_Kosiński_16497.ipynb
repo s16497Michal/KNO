{
  "nbformat": 4,
  "nbformat_minor": 0,
  "metadata": {
    "colab": {
      "name": "Knowledge_representation_projekt_semestralny_Michał_Kosiński_16497.ipynb",
      "provenance": [],
      "authorship_tag": "ABX9TyNANheAdsZ+xKAFigxC6MjO",
      "include_colab_link": true
    },
    "kernelspec": {
      "name": "python3",
      "display_name": "Python 3"
    }
  },
  "cells": [
    {
      "cell_type": "markdown",
      "metadata": {
        "id": "view-in-github",
        "colab_type": "text"
      },
      "source": [
        "<a href=\"https://colab.research.google.com/github/s16497Michal/KNO/blob/main/Knowledge_representation_projekt_semestralny_Micha%C5%82_Kosi%C5%84ski_16497.ipynb\" target=\"_parent\"><img src=\"https://colab.research.google.com/assets/colab-badge.svg\" alt=\"Open In Colab\"/></a>"
      ]
    },
    {
      "cell_type": "markdown",
      "metadata": {
        "id": "jQhNRe390PPi"
      },
      "source": [
        "Import bibliotek potrzebnych do przeprowadzenia badań"
      ]
    },
    {
      "cell_type": "code",
      "metadata": {
        "colab": {
          "base_uri": "https://localhost:8080/"
        },
        "id": "7w7NKFte0ODP",
        "outputId": "155eac96-c40d-4213-c3ae-fd11be27bedb"
      },
      "source": [
        "import matplotlib.pyplot as plt\r\n",
        "import numpy as np\r\n",
        "import tensorflow as tf\r\n",
        "from sklearn import svm, tree\r\n",
        "from sklearn.linear_model import LogisticRegression\r\n",
        "from sklearn.metrics import accuracy_score\r\n",
        "print(tf.__version__)"
      ],
      "execution_count": 31,
      "outputs": [
        {
          "output_type": "stream",
          "text": [
            "2.4.1\n"
          ],
          "name": "stdout"
        }
      ]
    },
    {
      "cell_type": "markdown",
      "metadata": {
        "id": "3DDDMrPV0dZZ"
      },
      "source": [
        "Załadowanie zestawu danych o ubraniach oraz wstępa obróbka do pierwszego modelu"
      ]
    },
    {
      "cell_type": "code",
      "metadata": {
        "id": "KvX_Lucq0stC"
      },
      "source": [
        "fashion_mnist = tf.keras.datasets.fashion_mnist\r\n",
        "# przygotowujemy zestawy z powyższego zbioru\r\n",
        "(training_clothes, training_labels), (test_clothes, test_labels) = fashion_mnist.load_data()\r\n",
        "\r\n",
        "#generowanie nagłówków \r\n",
        "clothes_names = ['T-shirt/top', 'Trouser', 'Pullover', 'Dress', 'Goat', 'Sandal', 'Shirt', 'Sneaker', 'Bag', 'Ankle boot']\r\n",
        "\r\n",
        "X_training = training_clothes\r\n",
        "X_test = test_clothes\r\n",
        "y_training = training_labels\r\n",
        "y_test = test_labels\r\n",
        "\r\n",
        "# dzielimy zestawy na 255 przez co uzyskamy większą skuteczność uczenia\r\n",
        "training_clothes, test_clothes = training_clothes / 255, test_clothes / 255"
      ],
      "execution_count": 32,
      "outputs": []
    },
    {
      "cell_type": "markdown",
      "metadata": {
        "id": "cbPuu2Up1OFc"
      },
      "source": [
        "Budowa pierwszej sekwencyjnej sieci do badań"
      ]
    },
    {
      "cell_type": "code",
      "metadata": {
        "id": "EAtJ7-qT1VKI"
      },
      "source": [
        "model = tf.keras.Sequential([\r\n",
        "    tf.keras.layers.Flatten(input_shape=(28, 28)),  # formatowanie danych na tablice jednowymiarową\r\n",
        "    tf.keras.layers.Dense(128, activation='relu'),  # pierwsza warstwa, posiada 128 neuronów\r\n",
        "    tf.keras.layers.Dense(10, activation='softmax')  # druga warstwa zawierając punktację, przyporządkowującą do jednej z 10 klas\r\n",
        "])"
      ],
      "execution_count": 33,
      "outputs": []
    },
    {
      "cell_type": "markdown",
      "metadata": {
        "id": "U96pPLgK1doY"
      },
      "source": [
        "Kompilowanie modelu oraz trenowanie "
      ]
    },
    {
      "cell_type": "code",
      "metadata": {
        "colab": {
          "base_uri": "https://localhost:8080/"
        },
        "id": "m4RL1ZAy1gXq",
        "outputId": "027e117a-641b-4667-faf4-e7941cf05740"
      },
      "source": [
        "model.compile(optimizer='adam',  # aktualizacja modelu na podstawie widzianych danych i funkcji utraty\r\n",
        "              loss='sparse_categorical_crossentropy',  # minimalizujemy funkcję utraty aby sterować modelem\r\n",
        "              metrics=['accuracy'])  # metryka monitoruje etap uczenia i testu\r\n",
        "\r\n",
        "# trenowanie modelu\r\n",
        "history = model.fit(training_clothes, training_labels, epochs=8)"
      ],
      "execution_count": 34,
      "outputs": [
        {
          "output_type": "stream",
          "text": [
            "Epoch 1/8\n",
            "1875/1875 [==============================] - 4s 2ms/step - loss: 0.6437 - accuracy: 0.7809\n",
            "Epoch 2/8\n",
            "1875/1875 [==============================] - 4s 2ms/step - loss: 0.3870 - accuracy: 0.8623\n",
            "Epoch 3/8\n",
            "1875/1875 [==============================] - 4s 2ms/step - loss: 0.3431 - accuracy: 0.8747\n",
            "Epoch 4/8\n",
            "1875/1875 [==============================] - 4s 2ms/step - loss: 0.3212 - accuracy: 0.8823\n",
            "Epoch 5/8\n",
            "1875/1875 [==============================] - 4s 2ms/step - loss: 0.2964 - accuracy: 0.8916\n",
            "Epoch 6/8\n",
            "1875/1875 [==============================] - 4s 2ms/step - loss: 0.2810 - accuracy: 0.8964\n",
            "Epoch 7/8\n",
            "1875/1875 [==============================] - 4s 2ms/step - loss: 0.2642 - accuracy: 0.9022\n",
            "Epoch 8/8\n",
            "1875/1875 [==============================] - 4s 2ms/step - loss: 0.2544 - accuracy: 0.9060\n"
          ],
          "name": "stdout"
        }
      ]
    },
    {
      "cell_type": "markdown",
      "metadata": {
        "id": "NLtoptI55Lvv"
      },
      "source": [
        "Sprawdzenie naszej dokładności wyuczenia oraz reprezentacja na wykresie"
      ]
    },
    {
      "cell_type": "code",
      "metadata": {
        "colab": {
          "base_uri": "https://localhost:8080/",
          "height": 313
        },
        "id": "kNxRHgWe1x7A",
        "outputId": "ab740a8a-69f8-4771-e767-0fddbb20f3d2"
      },
      "source": [
        "# ocena dokładności\r\n",
        "test_loss, test_accuracy = model.evaluate(test_clothes, test_labels)\r\n",
        "\r\n",
        "# przewidywanie\r\n",
        "prediction = model.predict(test_clothes)\r\n",
        "np.set_printoptions(suppress=True)\r\n",
        "\r\n",
        "print('Accuracy: ', test_accuracy)\r\n",
        "plt.plot(history.history['accuracy'])\r\n",
        "plt.xlabel('Epchos')\r\n",
        "plt.ylabel('Accuracy')\r\n",
        "plt.show()"
      ],
      "execution_count": 35,
      "outputs": [
        {
          "output_type": "stream",
          "text": [
            "313/313 [==============================] - 0s 1ms/step - loss: 0.3627 - accuracy: 0.8706\n",
            "Accuracy:  0.8705999851226807\n"
          ],
          "name": "stdout"
        },
        {
          "output_type": "display_data",
          "data": {
            "image/png": "[encoded data removed]",
            "text/plain": [
              "<Figure size 432x288 with 1 Axes>"
            ]
          },
          "metadata": {
            "tags": [],
            "needs_background": "light"
          }
        }
      ]
    },
    {
      "cell_type": "code",
      "metadata": {
        "colab": {
          "base_uri": "https://localhost:8080/",
          "height": 279
        },
        "id": "jJdVQYDfNk2D",
        "outputId": "470b6b12-d82b-4fe8-a5bd-7797a3b156e0"
      },
      "source": [
        "plt.plot(history.history['loss'])\r\n",
        "plt.xlabel('Epchos')\r\n",
        "plt.ylabel('Loss')\r\n",
        "plt.show()"
      ],
      "execution_count": 36,
      "outputs": [
        {
          "output_type": "display_data",
          "data": {
            "image/png": "[encoded data removed]",
            "text/plain": [
              "<Figure size 432x288 with 1 Axes>"
            ]
          },
          "metadata": {
            "tags": [],
            "needs_background": "light"
          }
        }
      ]
    },
    {
      "cell_type": "markdown",
      "metadata": {
        "id": "dpRja4Ne5dIT"
      },
      "source": [
        "Podejście do rozpoznawania ubrań korzystając z klasyfikatora Support Vector Machine"
      ]
    },
    {
      "cell_type": "markdown",
      "metadata": {
        "id": "7zuNBez-52bF"
      },
      "source": [
        "Wstępna obróbka danych na 2-klasowe pasujące do modelu SVM"
      ]
    },
    {
      "cell_type": "code",
      "metadata": {
        "id": "ZeiTz8QO514y"
      },
      "source": [
        "X_training_svc = X_training.reshape(60000, 784)\r\n",
        "X_test_scv = X_test.reshape(10000, 784)"
      ],
      "execution_count": 10,
      "outputs": []
    },
    {
      "cell_type": "markdown",
      "metadata": {
        "id": "Pyr6gU-y6H1a"
      },
      "source": [
        "Przystosowanie zbiorów uczących oraz testowych do klasyfikowania mieszącego się w czasie pozwalającym uzyskać wyniki"
      ]
    },
    {
      "cell_type": "code",
      "metadata": {
        "id": "0xdYOFCC6Wjg"
      },
      "source": [
        "x, y = X_training_svc[:10000], y_training[:10000]\r\n",
        "x_test_svc_to = X_test_scv[:1000]\r\n",
        "y_test_svc_to = y_test[:1000]"
      ],
      "execution_count": 11,
      "outputs": []
    },
    {
      "cell_type": "markdown",
      "metadata": {
        "id": "HcDPu5l96hfs"
      },
      "source": [
        "Budowanie modelu klasyfikatora oraz jego trenowanie"
      ]
    },
    {
      "cell_type": "code",
      "metadata": {
        "colab": {
          "base_uri": "https://localhost:8080/"
        },
        "id": "_Pu1Zo896lf2",
        "outputId": "489a7743-eafa-4885-c971-c96f6e57645d"
      },
      "source": [
        "svc = svm.SVC(C=100, gamma=0.001)\r\n",
        "svc.fit(x, y)"
      ],
      "execution_count": 12,
      "outputs": [
        {
          "output_type": "execute_result",
          "data": {
            "text/plain": [
              "SVC(C=100, break_ties=False, cache_size=200, class_weight=None, coef0=0.0,\n",
              "    decision_function_shape='ovr', degree=3, gamma=0.001, kernel='rbf',\n",
              "    max_iter=-1, probability=False, random_state=None, shrinking=True,\n",
              "    tol=0.001, verbose=False)"
            ]
          },
          "metadata": {
            "tags": []
          },
          "execution_count": 12
        }
      ]
    },
    {
      "cell_type": "markdown",
      "metadata": {
        "id": "umlkXfjx6uyE"
      },
      "source": [
        "Próbne przewidywanie ubrań oraz ocena/analiza dokładności uzyskanej przez klasyfikator"
      ]
    },
    {
      "cell_type": "code",
      "metadata": {
        "colab": {
          "base_uri": "https://localhost:8080/"
        },
        "id": "XTd_DH7562g2",
        "outputId": "da612a22-ec04-432a-9da5-dc6074f4309a"
      },
      "source": [
        "svc_prediction = svc.predict(x_test_svc_to)\r\n",
        "print('Accuracy SVM:', accuracy_score(y_test_svc_to, svc_prediction))"
      ],
      "execution_count": 14,
      "outputs": [
        {
          "output_type": "stream",
          "text": [
            "Accuracy SVM: 0.105\n"
          ],
          "name": "stdout"
        }
      ]
    },
    {
      "cell_type": "markdown",
      "metadata": {
        "id": "_xiwrCJaBq24"
      },
      "source": [
        "Próba implementacji architektury splotowej sieci neuronowej"
      ]
    },
    {
      "cell_type": "markdown",
      "metadata": {
        "id": "70-sEO9sB81J"
      },
      "source": [
        "Wstępne przygotowanie danych do procesowania"
      ]
    },
    {
      "cell_type": "code",
      "metadata": {
        "colab": {
          "base_uri": "https://localhost:8080/"
        },
        "id": "oZbymdKACBJl",
        "outputId": "0516da3d-8ff6-491e-c0da-f7f3d76ee4f2"
      },
      "source": [
        "X_training = X_training.reshape(60000, 28, 28, 1)\r\n",
        "X_test = X_test.reshape(10000, 28, 28, 1)\r\n",
        "print(X_training.shape)"
      ],
      "execution_count": 38,
      "outputs": [
        {
          "output_type": "stream",
          "text": [
            "(60000, 28, 28, 1)\n"
          ],
          "name": "stdout"
        }
      ]
    },
    {
      "cell_type": "markdown",
      "metadata": {
        "id": "eoLhFreqCGlU"
      },
      "source": [
        "Użycie metody to_categorical tworzącej wektory binarne pozwalającej na lepsze dopasowanie do sieci"
      ]
    },
    {
      "cell_type": "code",
      "metadata": {
        "colab": {
          "base_uri": "https://localhost:8080/"
        },
        "id": "NtRuj11ECRqp",
        "outputId": "bb707294-9e13-443a-8e33-53cbe4f26067"
      },
      "source": [
        "y_training_one_hot = tf.keras.utils.to_categorical(y_training)\r\n",
        "y_test_one_hot = tf.keras.utils.to_categorical(y_test)\r\n",
        "print(y_training_one_hot[0])"
      ],
      "execution_count": 39,
      "outputs": [
        {
          "output_type": "stream",
          "text": [
            "[0. 0. 0. 0. 0. 0. 0. 0. 0. 1.]\n"
          ],
          "name": "stdout"
        }
      ]
    },
    {
      "cell_type": "markdown",
      "metadata": {
        "id": "-E6YznLJCYMb"
      },
      "source": [
        "Budowa modelu oraz jego kompilacja"
      ]
    },
    {
      "cell_type": "code",
      "metadata": {
        "id": "4ahnCXCyCg01"
      },
      "source": [
        "modelCNN = tf.keras.Sequential()\r\n",
        "modelCNN.add(tf.keras.layers.Conv2D(64, kernel_size=3, activation='relu', input_shape=(28, 28, 1)))\r\n",
        "modelCNN.add(tf.keras.layers.Conv2D(32, kernel_size=3, activation='relu'))\r\n",
        "modelCNN.add(tf.keras.layers.Flatten())\r\n",
        "modelCNN.add(tf.keras.layers.Dense(10, activation='softmax'))\r\n",
        "\r\n",
        "# kompilowanie modelu\r\n",
        "\r\n",
        "modelCNN.compile(optimizer='adam', loss='categorical_crossentropy', metrics=[\"acc\"])"
      ],
      "execution_count": 40,
      "outputs": []
    },
    {
      "cell_type": "markdown",
      "metadata": {
        "id": "j95ah9iGDa3H"
      },
      "source": [
        "Trenowanie modelu korzystając również z 10 epok"
      ]
    },
    {
      "cell_type": "code",
      "metadata": {
        "colab": {
          "base_uri": "https://localhost:8080/"
        },
        "id": "M60dtZa9Dfxj",
        "outputId": "f6c9dee5-f344-400d-c2e2-d9f9c1e9b393"
      },
      "source": [
        "hist = modelCNN.fit(X_training, y_training_one_hot, validation_data=(X_test, y_test_one_hot), epochs=10)"
      ],
      "execution_count": 41,
      "outputs": [
        {
          "output_type": "stream",
          "text": [
            "Epoch 1/10\n",
            "1875/1875 [==============================] - 176s 94ms/step - loss: 1.1832 - acc: 0.7884 - val_loss: 0.4323 - val_acc: 0.8461\n",
            "Epoch 2/10\n",
            "1875/1875 [==============================] - 174s 93ms/step - loss: 0.3602 - acc: 0.8674 - val_loss: 0.3817 - val_acc: 0.8643\n",
            "Epoch 3/10\n",
            "1875/1875 [==============================] - 177s 94ms/step - loss: 0.2932 - acc: 0.8939 - val_loss: 0.3638 - val_acc: 0.8779\n",
            "Epoch 4/10\n",
            "1875/1875 [==============================] - 177s 94ms/step - loss: 0.2461 - acc: 0.9078 - val_loss: 0.3882 - val_acc: 0.8649\n",
            "Epoch 5/10\n",
            "1875/1875 [==============================] - 176s 94ms/step - loss: 0.2032 - acc: 0.9248 - val_loss: 0.3739 - val_acc: 0.8806\n",
            "Epoch 6/10\n",
            "1875/1875 [==============================] - 175s 93ms/step - loss: 0.1816 - acc: 0.9315 - val_loss: 0.3909 - val_acc: 0.8810\n",
            "Epoch 7/10\n",
            "1875/1875 [==============================] - 175s 93ms/step - loss: 0.1563 - acc: 0.9424 - val_loss: 0.4511 - val_acc: 0.8769\n",
            "Epoch 8/10\n",
            "1875/1875 [==============================] - 174s 93ms/step - loss: 0.1335 - acc: 0.9499 - val_loss: 0.4682 - val_acc: 0.8749\n",
            "Epoch 9/10\n",
            "1875/1875 [==============================] - 174s 93ms/step - loss: 0.1183 - acc: 0.9564 - val_loss: 0.5263 - val_acc: 0.8774\n",
            "Epoch 10/10\n",
            "1875/1875 [==============================] - 175s 93ms/step - loss: 0.1080 - acc: 0.9593 - val_loss: 0.5291 - val_acc: 0.8779\n"
          ],
          "name": "stdout"
        }
      ]
    },
    {
      "cell_type": "markdown",
      "metadata": {
        "id": "Kst35sGUEMK-"
      },
      "source": [
        "Analiza dokładności predykcji oraz przedstawienie krzywej uczenia"
      ]
    },
    {
      "cell_type": "code",
      "metadata": {
        "colab": {
          "base_uri": "https://localhost:8080/",
          "height": 295
        },
        "id": "FxzS8F9pEX-D",
        "outputId": "5f59d8c6-d039-4da3-d9ba-68a68fc75cc6"
      },
      "source": [
        "plt.plot(hist.history['acc'])\r\n",
        "plt.plot(hist.history['val_acc'])\r\n",
        "plt.title('Model Accuracy')\r\n",
        "plt.ylabel('Accuracy')\r\n",
        "plt.xlabel('Epochs')\r\n",
        "plt.legend(['Train', 'Val'], loc='upper left')\r\n",
        "plt.show()"
      ],
      "execution_count": 42,
      "outputs": [
        {
          "output_type": "display_data",
          "data": {
            "image/png": "[encoded data removed]",
            "text/plain": [
              "<Figure size 432x288 with 1 Axes>"
            ]
          },
          "metadata": {
            "tags": [],
            "needs_background": "light"
          }
        }
      ]
    },
    {
      "cell_type": "code",
      "metadata": {
        "colab": {
          "base_uri": "https://localhost:8080/",
          "height": 295
        },
        "id": "LQ-7NaWSONjL",
        "outputId": "b0999eec-f7d0-4e12-aa2b-56840b8d553d"
      },
      "source": [
        "plt.plot(hist.history['loss'])\r\n",
        "plt.plot(hist.history['val_loss'])\r\n",
        "plt.title('Loss')\r\n",
        "plt.ylabel('loss')\r\n",
        "plt.xlabel('epoch')\r\n",
        "plt.legend(['train', 'test'], loc='upper left')\r\n",
        "plt.show()"
      ],
      "execution_count": 43,
      "outputs": [
        {
          "output_type": "display_data",
          "data": {
            "image/png": "[encoded data removed]",
            "text/plain": [
              "<Figure size 432x288 with 1 Axes>"
            ]
          },
          "metadata": {
            "tags": [],
            "needs_background": "light"
          }
        }
      ]
    },
    {
      "cell_type": "markdown",
      "metadata": {
        "id": "uWuPuX77uz7k"
      },
      "source": [
        "Implementacja regresji liniowej"
      ]
    },
    {
      "cell_type": "code",
      "metadata": {
        "colab": {
          "base_uri": "https://localhost:8080/"
        },
        "id": "wr-t0vcou_kj",
        "outputId": "bbed4323-3b2d-42e2-9347-e940bec74875"
      },
      "source": [
        "print(x.shape)\r\n",
        "print(y.shape)\r\n",
        "\r\n",
        "regresion_model = LogisticRegression(solver='sag', multi_class='auto', max_iter=10000).fit(x, y)\r\n",
        "\r\n",
        "y_pred_regresion = regresion_model.predict(x_test_svc_to)\r\n",
        "\r\n",
        "acc_regresion = accuracy_score(y_test_svc_to, y_pred_regresion, normalize=True)"
      ],
      "execution_count": 18,
      "outputs": [
        {
          "output_type": "stream",
          "text": [
            "(10000, 784)\n",
            "(10000,)\n"
          ],
          "name": "stdout"
        }
      ]
    },
    {
      "cell_type": "code",
      "metadata": {
        "colab": {
          "base_uri": "https://localhost:8080/"
        },
        "id": "L9bkvmdq_LHG",
        "outputId": "f2938075-6b78-4c9d-8b72-094473afd013"
      },
      "source": [
        "print(acc_regresion)"
      ],
      "execution_count": 19,
      "outputs": [
        {
          "output_type": "stream",
          "text": [
            "0.794\n"
          ],
          "name": "stdout"
        }
      ]
    },
    {
      "cell_type": "markdown",
      "metadata": {
        "id": "-wXKa58sK4d0"
      },
      "source": [
        "Implementacja sieci z wykorzystaniem dropout"
      ]
    },
    {
      "cell_type": "code",
      "metadata": {
        "id": "dLTkDYJKC1RU"
      },
      "source": [
        "X_training = X_training.reshape(60000, 28, 28, 1)"
      ],
      "execution_count": 44,
      "outputs": []
    },
    {
      "cell_type": "code",
      "metadata": {
        "id": "eX0K0ddu-l1N"
      },
      "source": [
        "model_drop = tf.keras.Sequential()\r\n",
        "model_drop.add(tf.keras.layers.Conv2D(32, activation='relu', input_shape=(28,28,1), padding='same', kernel_size=(3,3)))\r\n",
        "model_drop.add(tf.keras.layers.Flatten(input_shape=(28, 28)))\r\n",
        "model_drop.add(tf.keras.layers.Dense(128, activation='relu'))\r\n",
        "model_drop.add(tf.keras.layers.Dropout(0.1))\r\n",
        "model_drop.add(tf.keras.layers.Dense(10, activation='softmax'))"
      ],
      "execution_count": 48,
      "outputs": []
    },
    {
      "cell_type": "markdown",
      "metadata": {
        "id": "pOOdvfcrAglt"
      },
      "source": [
        "Trenowanie modelu"
      ]
    },
    {
      "cell_type": "code",
      "metadata": {
        "colab": {
          "base_uri": "https://localhost:8080/"
        },
        "id": "1ShvIOJLAjEb",
        "outputId": "54f5a87a-6e95-4e6d-941b-cd01c7c069f0"
      },
      "source": [
        "model_drop.compile(loss='categorical_crossentropy',\r\n",
        "              optimizer='Adadelta',\r\n",
        "              metrics=['accuracy'])\r\n",
        "model_drop_history = model_drop.fit(X_training, y_training_one_hot, batch_size=128, epochs=10, verbose=1)"
      ],
      "execution_count": 49,
      "outputs": [
        {
          "output_type": "stream",
          "text": [
            "Epoch 1/10\n",
            "469/469 [==============================] - 52s 111ms/step - loss: 12.3346 - accuracy: 0.3251\n",
            "Epoch 2/10\n",
            "469/469 [==============================] - 52s 111ms/step - loss: 2.7057 - accuracy: 0.6518\n",
            "Epoch 3/10\n",
            "469/469 [==============================] - 54s 114ms/step - loss: 1.5158 - accuracy: 0.6982\n",
            "Epoch 4/10\n",
            "469/469 [==============================] - 53s 114ms/step - loss: 1.0655 - accuracy: 0.7236\n",
            "Epoch 5/10\n",
            "469/469 [==============================] - 53s 112ms/step - loss: 0.9006 - accuracy: 0.7432\n",
            "Epoch 6/10\n",
            "469/469 [==============================] - 53s 113ms/step - loss: 0.8065 - accuracy: 0.7592\n",
            "Epoch 7/10\n",
            "469/469 [==============================] - 54s 115ms/step - loss: 0.7315 - accuracy: 0.7780\n",
            "Epoch 8/10\n",
            "469/469 [==============================] - 53s 113ms/step - loss: 0.6926 - accuracy: 0.7830\n",
            "Epoch 9/10\n",
            "469/469 [==============================] - 55s 116ms/step - loss: 0.6521 - accuracy: 0.7935\n",
            "Epoch 10/10\n",
            "469/469 [==============================] - 54s 116ms/step - loss: 0.6476 - accuracy: 0.7957\n"
          ],
          "name": "stdout"
        }
      ]
    },
    {
      "cell_type": "markdown",
      "metadata": {
        "id": "zM80YmFSaHqZ"
      },
      "source": [
        "Analiza dokładności razem z wykresami"
      ]
    },
    {
      "cell_type": "code",
      "metadata": {
        "colab": {
          "base_uri": "https://localhost:8080/",
          "height": 279
        },
        "id": "ap_VClraaL-8",
        "outputId": "c0418a20-355c-42a2-ce30-03c640cc7f16"
      },
      "source": [
        "plt.plot(model_drop_history.history['accuracy'])\r\n",
        "plt.xlabel('Epchos')\r\n",
        "plt.ylabel('Accuracy')\r\n",
        "plt.show()"
      ],
      "execution_count": 52,
      "outputs": [
        {
          "output_type": "display_data",
          "data": {
            "image/png": "[encoded data removed]",
            "text/plain": [
              "<Figure size 432x288 with 1 Axes>"
            ]
          },
          "metadata": {
            "tags": [],
            "needs_background": "light"
          }
        }
      ]
    },
    {
      "cell_type": "code",
      "metadata": {
        "colab": {
          "base_uri": "https://localhost:8080/",
          "height": 279
        },
        "id": "FuvSDPFgai7Z",
        "outputId": "ff85fcd4-5022-4ea0-c262-e7a4f927dd29"
      },
      "source": [
        "plt.plot(model_drop_history.history['loss'])\r\n",
        "plt.xlabel('Epchos')\r\n",
        "plt.ylabel('Loss')\r\n",
        "plt.show()"
      ],
      "execution_count": 54,
      "outputs": [
        {
          "output_type": "display_data",
          "data": {
            "image/png": "[encoded data removed]",
            "text/plain": [
              "<Figure size 432x288 with 1 Axes>"
            ]
          },
          "metadata": {
            "tags": [],
            "needs_background": "light"
          }
        }
      ]
    }
  ]
}